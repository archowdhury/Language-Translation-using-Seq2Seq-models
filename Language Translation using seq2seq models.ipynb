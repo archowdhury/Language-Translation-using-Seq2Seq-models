{
 "cells": [
  {
   "cell_type": "markdown",
   "metadata": {},
   "source": [
    "# Language Translation - \"English to Bengali\" using seq2seq models"
   ]
  },
  {
   "cell_type": "code",
   "execution_count": null,
   "metadata": {},
   "outputs": [],
   "source": [
    "import numpy as np\n",
    "\n",
    "from tensorflow.keras.models import Model\n",
    "from tensorflow.keras.preprocessing.text import Tokenizer\n",
    "from tensorflow.keras.preprocessing.sequence import pad_sequences\n",
    "from tensorflow.keras.utils import plot_model\n",
    "from tensorflow.keras.callbacks import EarlyStopping, ReduceLROnPlateau\n",
    "\n",
    "from tensorflow.keras.layers import Embedding, LSTM, Bidirectional, Input, Dense\n",
    "\n",
    "import matplotlib.pyplot as plt"
   ]
  },
  {
   "cell_type": "markdown",
   "metadata": {},
   "source": [
    "Configuration parameters"
   ]
  },
  {
   "cell_type": "code",
   "execution_count": 2,
   "metadata": {},
   "outputs": [],
   "source": [
    "LATENT_DIM = 256\n",
    "NUM_SAMPLES = 10000\n",
    "MAX_SEQUENCE_LENGTH = 100\n",
    "MAX_NUM_WORDS = 20000\n",
    "EMBEDDING_DIM = 100"
   ]
  },
  {
   "cell_type": "markdown",
   "metadata": {},
   "source": [
    "Load the language data"
   ]
  },
  {
   "cell_type": "code",
   "execution_count": 3,
   "metadata": {},
   "outputs": [
    {
     "name": "stdout",
     "output_type": "stream",
     "text": [
      "Number of samples loaded :  4342\n",
      "['Go.', 'Go.', 'Go.', 'Run!', 'Run!', 'Who?', 'Fire!', 'Help!']\n",
      "['যাও। <eos>', 'যান। <eos>', 'যা। <eos>', 'পালাও! <eos>', 'পালান! <eos>', 'কে? <eos>', 'আগুন! <eos>', 'বাঁচাও! <eos>']\n",
      "['<sos> যাও।', '<sos> যান।', '<sos> যা।', '<sos> পালাও!', '<sos> পালান!', '<sos> কে?', '<sos> আগুন!', '<sos> বাঁচাও!']\n"
     ]
    }
   ],
   "source": [
    "input_texts = []\n",
    "target_texts = []\n",
    "target_texts_inputs = []\n",
    "\n",
    "t = 0\n",
    "for line in open('ben.txt', encoding='utf-8'):\n",
    "    \n",
    "    t += 1\n",
    "    if t > NUM_SAMPLES: \n",
    "        break\n",
    "        \n",
    "    if '\\t' not in line: \n",
    "        continue\n",
    "    \n",
    "    input_text, translation = line.split('\\t')[:2]\n",
    "    \n",
    "    target_text = translation + ' <eos>'\n",
    "    target_text_input = '<sos> ' + translation\n",
    "    \n",
    "    input_texts.append(input_text)\n",
    "    target_texts.append(target_text)\n",
    "    target_texts_inputs.append(target_text_input)\n",
    "        \n",
    "print(\"Number of samples loaded : \", len(input_texts))\n",
    "\n",
    "print(input_texts[:8])\n",
    "print(target_texts[:8])\n",
    "print(target_texts_inputs[:8])"
   ]
  },
  {
   "cell_type": "markdown",
   "metadata": {},
   "source": [
    "#### Process the text corpus"
   ]
  },
  {
   "cell_type": "markdown",
   "metadata": {},
   "source": [
    "Process the input corpus"
   ]
  },
  {
   "cell_type": "code",
   "execution_count": 4,
   "metadata": {},
   "outputs": [
    {
     "name": "stdout",
     "output_type": "stream",
     "text": [
      "Total unique words in the input :  1874\n",
      "Max input sequence length :  19\n"
     ]
    }
   ],
   "source": [
    "tokenizer_inputs = Tokenizer(num_words=MAX_NUM_WORDS)\n",
    "\n",
    "tokenizer_inputs.fit_on_texts(input_texts)\n",
    "input_sequences = tokenizer_inputs.texts_to_sequences(input_texts)\n",
    "\n",
    "# Create the word-index mapping\n",
    "word2idx_inputs = tokenizer_inputs.word_index\n",
    "print(\"Total unique words in the input : \", len(word2idx_inputs))\n",
    "\n",
    "# Get the length of the longest sequence\n",
    "max_len_input = max([len(s) for s in input_sequences])\n",
    "print(\"Max input sequence length : \", max_len_input)"
   ]
  },
  {
   "cell_type": "markdown",
   "metadata": {},
   "source": [
    "Process the target corpuses"
   ]
  },
  {
   "cell_type": "code",
   "execution_count": 5,
   "metadata": {},
   "outputs": [
    {
     "name": "stdout",
     "output_type": "stream",
     "text": [
      "Total unique words in the output :  3543\n",
      "Max output sequence length :  19\n",
      "\n",
      "\n",
      "Some of the word-index output mappings : \n",
      " {'<eos>': 1, '<sos>': 2, 'আমি': 3, 'টম': 4, 'আমার': 5, 'কি': 6, 'না।': 7, 'আপনি': 8, 'এটা': 9, 'তুমি': 10}\n",
      "\n",
      "Target sequences :\n",
      " [[167, 1], [120, 1], [823, 1], [1717, 1], [1718, 1]]\n",
      "\n",
      "Target sequences inputs :\n",
      " [[2, 167], [2, 120], [2, 823], [2, 1717], [2, 1718]]\n"
     ]
    }
   ],
   "source": [
    "tokenizer_outputs = Tokenizer(num_words=MAX_NUM_WORDS, filters='')\n",
    "\n",
    "tokenizer_outputs.fit_on_texts(target_texts + target_texts_inputs)\n",
    "target_sequences = tokenizer_outputs.texts_to_sequences(target_texts)\n",
    "target_sequences_inputs = tokenizer_outputs.texts_to_sequences(target_texts_inputs)\n",
    "\n",
    "# Create the word-outdex mapping for the output language\n",
    "word2idx_outputs = tokenizer_outputs.word_index\n",
    "num_words_output = len(word2idx_outputs) + 1\n",
    "print(\"Total unique words in the output : \", num_words_output)\n",
    "\n",
    "# Get the length of the longest sequence\n",
    "max_len_target = max([len(s) for s in target_sequences])\n",
    "print(\"Max output sequence length : \", max_len_target)\n",
    "\n",
    "print(\"\\n\\nSome of the word-index output mappings : \\n\", dict(list(word2idx_outputs.items())[:10]))\n",
    "print(\"\\nTarget sequences :\\n\",target_sequences[:5])\n",
    "print(\"\\nTarget sequences inputs :\\n\",target_sequences_inputs[:5])"
   ]
  },
  {
   "cell_type": "markdown",
   "metadata": {},
   "source": [
    "#### Pad the inputs for the encoder"
   ]
  },
  {
   "cell_type": "code",
   "execution_count": 6,
   "metadata": {},
   "outputs": [
    {
     "name": "stdout",
     "output_type": "stream",
     "text": [
      "encoder input shape (4342, 19)\n",
      "encoder data sample [ 0  0  0  0  0  0  0  0  0  0  0  0  0  0  0  0  0  0 28]\n",
      "\n",
      "decoder_input shape (4342, 19)\n",
      "decoder input data sample [  2 167   0   0   0   0   0   0   0   0   0   0   0   0   0   0   0   0\n",
      "   0]\n",
      "\n",
      "decoder_output shape (4342, 19)\n",
      "decoder output data sample [167   1   0   0   0   0   0   0   0   0   0   0   0   0   0   0   0   0\n",
      "   0]\n"
     ]
    }
   ],
   "source": [
    "# Inputs for the encoder\n",
    "encoder_inputs = pad_sequences(input_sequences, maxlen=max_len_input)\n",
    "print(\"encoder input shape\", encoder_inputs.shape)\n",
    "print(\"encoder data sample\", encoder_inputs[0])\n",
    "\n",
    "# Inputs for the decoder\n",
    "decoder_inputs = pad_sequences(target_sequences_inputs, maxlen=max_len_target, padding='post')\n",
    "print(\"\\ndecoder_input shape\", decoder_inputs.shape)\n",
    "print(\"decoder input data sample\", decoder_inputs[0])\n",
    "\n",
    "# Outputs from the decoder\n",
    "decoder_targets = pad_sequences(target_sequences, maxlen=max_len_target, padding='post')\n",
    "print(\"\\ndecoder_output shape\", decoder_targets.shape)\n",
    "print(\"decoder output data sample\", decoder_targets[0])\n"
   ]
  },
  {
   "cell_type": "markdown",
   "metadata": {},
   "source": [
    "#### Load the GloVe vectors"
   ]
  },
  {
   "cell_type": "code",
   "execution_count": 7,
   "metadata": {},
   "outputs": [
    {
     "name": "stdout",
     "output_type": "stream",
     "text": [
      "Loaded 400000 word vectors\n"
     ]
    }
   ],
   "source": [
    "with open(r'E:\\Machine Learning\\Data\\glove.6B\\glove.6B.100d.txt', encoding='utf-8') as f:\n",
    "    \n",
    "    word2vec = {}\n",
    "    for line in f:\n",
    "        values = line.split()\n",
    "        word2vec[values[0]] = np.array(values[1:], dtype='float32')\n",
    "\n",
    "f.close()\n",
    "\n",
    "print(f\"Loaded {len(word2vec)} word vectors\")"
   ]
  },
  {
   "cell_type": "markdown",
   "metadata": {},
   "source": [
    "#### Create the embedding matrix"
   ]
  },
  {
   "cell_type": "code",
   "execution_count": 8,
   "metadata": {},
   "outputs": [
    {
     "name": "stdout",
     "output_type": "stream",
     "text": [
      "MAX_NUM_WORDS :  20000\n",
      "Length of word2idx_input :  1874\n",
      "Shape of embedding matrix :  (1875, 100)\n"
     ]
    }
   ],
   "source": [
    "print(\"MAX_NUM_WORDS : \",MAX_NUM_WORDS)\n",
    "print(\"Length of word2idx_input : \", len(word2idx_inputs))\n",
    "\n",
    "num_words = min(MAX_NUM_WORDS, len(word2idx_inputs) + 1)\n",
    "embedding_matrix = np.zeros((num_words, EMBEDDING_DIM))\n",
    "print(\"Shape of embedding matrix : \", embedding_matrix.shape)\n",
    "\n",
    "for word, i in word2idx_inputs.items():\n",
    "    \n",
    "    if i < MAX_NUM_WORDS:\n",
    "        vector = word2vec.get(word)\n",
    "        if vector is not None:\n",
    "            embedding_matrix[i] = vector"
   ]
  },
  {
   "cell_type": "markdown",
   "metadata": {},
   "source": [
    "Check if the embedding matrix contains any NaNs. If so the neural network weights would not change and the learning would stop"
   ]
  },
  {
   "cell_type": "code",
   "execution_count": 9,
   "metadata": {},
   "outputs": [
    {
     "name": "stdout",
     "output_type": "stream",
     "text": [
      "Does the embedding matrix contain any NaNs : False\n"
     ]
    }
   ],
   "source": [
    "print(\"Does the embedding matrix contain any NaNs :\", np.isnan(embedding_matrix).any())"
   ]
  },
  {
   "cell_type": "markdown",
   "metadata": {},
   "source": [
    "## The seq2seq model"
   ]
  },
  {
   "cell_type": "markdown",
   "metadata": {},
   "source": [
    "#### Create the embedding layer"
   ]
  },
  {
   "cell_type": "code",
   "execution_count": 10,
   "metadata": {},
   "outputs": [],
   "source": [
    "embedding_layer = Embedding(input_dim = num_words,\n",
    "                            output_dim = EMBEDDING_DIM,\n",
    "                            weights = [embedding_matrix],\n",
    "                            input_length=max_len_input\n",
    "                           )"
   ]
  },
  {
   "cell_type": "markdown",
   "metadata": {},
   "source": [
    "#### Create the one-hot encoded targets for the decoder\n",
    "\n",
    "We cannot use sparse_categorical_entropy for sequences, only categorical entropy"
   ]
  },
  {
   "cell_type": "code",
   "execution_count": 11,
   "metadata": {},
   "outputs": [
    {
     "name": "stdout",
     "output_type": "stream",
     "text": [
      "Decoder targets one-hot encoding shape : (4342, 19, 3543)\n"
     ]
    }
   ],
   "source": [
    "decoder_targets_one_hot = np.zeros(shape=(len(input_texts), max_len_target, num_words_output), dtype='float32')\n",
    "\n",
    "print(\"Decoder targets one-hot encoding shape :\",decoder_targets_one_hot.shape)\n",
    "\n",
    "for i, d in enumerate(decoder_targets):\n",
    "    for t, word in enumerate(d):\n",
    "        decoder_targets_one_hot[i, t, word] = 1  "
   ]
  },
  {
   "cell_type": "markdown",
   "metadata": {},
   "source": [
    "#### Build the model"
   ]
  },
  {
   "cell_type": "markdown",
   "metadata": {},
   "source": [
    "Set up the encoder:\n",
    "\n",
    "Inputs --> Embedding layer --> LSTM layer"
   ]
  },
  {
   "cell_type": "code",
   "execution_count": 12,
   "metadata": {},
   "outputs": [],
   "source": [
    "encoder_inputs_placeholder = Input(shape=(max_len_input,))\n",
    "x = embedding_layer(encoder_inputs_placeholder)\n",
    "\n",
    "encoder = LSTM(LATENT_DIM, return_state=True)\n",
    "encoder_outputs, h, c = encoder(x)\n",
    "\n",
    "# Keep only the states to pass to the decoder\n",
    "encoder_states = [h, c]"
   ]
  },
  {
   "cell_type": "markdown",
   "metadata": {},
   "source": [
    "Set up the decoder\n",
    "\n",
    "Decoder Inputs --> Embedding layer --> LSTM layer"
   ]
  },
  {
   "cell_type": "code",
   "execution_count": 21,
   "metadata": {},
   "outputs": [],
   "source": [
    "decoder_inputs_placeholder = Input(shape=(max_len_target,))\n",
    "\n",
    "decoder_embedding = Embedding(num_words_output, EMBEDDING_DIM)\n",
    "decoder_inputs_x = decoder_embedding(decoder_inputs_placeholder)\n",
    "\n",
    "# Since the decoder is a \"to-many\" model so we have to return set return_sequences=True\n",
    "decoder_lstm = LSTM(LATENT_DIM, \n",
    "                    return_sequences = True, \n",
    "                    return_state=True)\n",
    "\n",
    "decoder_outputs, _ , _ = decoder_lstm(decoder_inputs_x, \n",
    "                                      initial_state=encoder_states)"
   ]
  },
  {
   "cell_type": "markdown",
   "metadata": {},
   "source": [
    "Final Dense layer for predictions"
   ]
  },
  {
   "cell_type": "code",
   "execution_count": 22,
   "metadata": {},
   "outputs": [],
   "source": [
    "decoder_dense = Dense(num_words_output, activation = 'softmax')\n",
    "decoder_outputs = decoder_dense(decoder_outputs)"
   ]
  },
  {
   "cell_type": "markdown",
   "metadata": {},
   "source": [
    "Create the model"
   ]
  },
  {
   "cell_type": "code",
   "execution_count": 23,
   "metadata": {},
   "outputs": [
    {
     "name": "stdout",
     "output_type": "stream",
     "text": [
      "Model: \"model_1\"\n",
      "__________________________________________________________________________________________________\n",
      "Layer (type)                    Output Shape         Param #     Connected to                     \n",
      "==================================================================================================\n",
      "input_1 (InputLayer)            [(None, 19)]         0                                            \n",
      "__________________________________________________________________________________________________\n",
      "input_3 (InputLayer)            [(None, 19)]         0                                            \n",
      "__________________________________________________________________________________________________\n",
      "embedding (Embedding)           (None, 19, 100)      187500      input_1[0][0]                    \n",
      "__________________________________________________________________________________________________\n",
      "embedding_2 (Embedding)         (None, 19, 100)      354300      input_3[0][0]                    \n",
      "__________________________________________________________________________________________________\n",
      "lstm (LSTM)                     [(None, 256), (None, 365568      embedding[0][0]                  \n",
      "__________________________________________________________________________________________________\n",
      "lstm_2 (LSTM)                   [(None, 19, 256), (N 365568      embedding_2[0][0]                \n",
      "                                                                 lstm[0][1]                       \n",
      "                                                                 lstm[0][2]                       \n",
      "__________________________________________________________________________________________________\n",
      "dense_1 (Dense)                 (None, 19, 3543)     910551      lstm_2[0][0]                     \n",
      "==================================================================================================\n",
      "Total params: 2,183,487\n",
      "Trainable params: 2,183,487\n",
      "Non-trainable params: 0\n",
      "__________________________________________________________________________________________________\n"
     ]
    }
   ],
   "source": [
    "model = Model([encoder_inputs_placeholder, decoder_inputs_placeholder], decoder_outputs)\n",
    "\n",
    "model.compile(optimizer='adam', loss='categorical_crossentropy', metrics=['accuracy'])\n",
    "\n",
    "model.summary()"
   ]
  },
  {
   "cell_type": "markdown",
   "metadata": {},
   "source": [
    "#### Train the model"
   ]
  },
  {
   "cell_type": "code",
   "execution_count": 24,
   "metadata": {},
   "outputs": [],
   "source": [
    "BATCH_SIZE = 64\n",
    "EPOCHS = 200\n",
    "VALIDATION_SPLIT = 0.2"
   ]
  },
  {
   "cell_type": "code",
   "execution_count": 25,
   "metadata": {},
   "outputs": [
    {
     "name": "stdout",
     "output_type": "stream",
     "text": [
      "Train on 3473 samples, validate on 869 samples\n",
      "Epoch 1/200\n",
      "3473/3473 [==============================] - 5s 1ms/sample - loss: 2.7167 - accuracy: 0.7479 - val_loss: 3.1601 - val_accuracy: 0.6015\n",
      "Epoch 2/200\n",
      "3473/3473 [==============================] - 2s 605us/sample - loss: 1.4145 - accuracy: 0.7824 - val_loss: 2.8742 - val_accuracy: 0.6176\n",
      "Epoch 3/200\n",
      "3473/3473 [==============================] - 2s 600us/sample - loss: 1.2962 - accuracy: 0.8062 - val_loss: 2.8942 - val_accuracy: 0.6303\n",
      "Epoch 4/200\n",
      "3473/3473 [==============================] - 2s 601us/sample - loss: 1.2117 - accuracy: 0.8154 - val_loss: 2.8156 - val_accuracy: 0.6462\n",
      "Epoch 5/200\n",
      "3473/3473 [==============================] - 2s 603us/sample - loss: 1.1440 - accuracy: 0.8199 - val_loss: 2.8087 - val_accuracy: 0.6502\n",
      "Epoch 6/200\n",
      "3473/3473 [==============================] - 2s 603us/sample - loss: 1.0799 - accuracy: 0.8258 - val_loss: 2.7558 - val_accuracy: 0.6586\n",
      "Epoch 7/200\n",
      "3473/3473 [==============================] - 2s 602us/sample - loss: 1.0188 - accuracy: 0.8311 - val_loss: 2.7652 - val_accuracy: 0.6607\n",
      "Epoch 8/200\n",
      "3473/3473 [==============================] - 2s 601us/sample - loss: 0.9613 - accuracy: 0.8368 - val_loss: 2.7647 - val_accuracy: 0.6633\n",
      "Epoch 9/200\n",
      "3473/3473 [==============================] - 2s 603us/sample - loss: 0.9084 - accuracy: 0.8429 - val_loss: 2.7564 - val_accuracy: 0.6654\n",
      "Epoch 10/200\n",
      "3473/3473 [==============================] - 2s 603us/sample - loss: 0.8565 - accuracy: 0.8473 - val_loss: 2.7350 - val_accuracy: 0.6682\n",
      "Epoch 11/200\n",
      "3473/3473 [==============================] - 2s 603us/sample - loss: 0.8090 - accuracy: 0.8527 - val_loss: 2.7432 - val_accuracy: 0.6699\n",
      "Epoch 12/200\n",
      "3473/3473 [==============================] - 2s 605us/sample - loss: 0.7644 - accuracy: 0.8589 - val_loss: 2.7630 - val_accuracy: 0.6697\n",
      "Epoch 13/200\n",
      "3473/3473 [==============================] - 2s 600us/sample - loss: 0.7199 - accuracy: 0.8647 - val_loss: 2.7861 - val_accuracy: 0.6699\n",
      "Epoch 14/200\n",
      "3473/3473 [==============================] - 2s 602us/sample - loss: 0.6796 - accuracy: 0.8694 - val_loss: 2.7744 - val_accuracy: 0.6738\n",
      "Epoch 15/200\n",
      "3473/3473 [==============================] - 2s 600us/sample - loss: 0.6397 - accuracy: 0.8748 - val_loss: 2.7658 - val_accuracy: 0.6736\n",
      "Epoch 16/200\n",
      "3473/3473 [==============================] - 2s 603us/sample - loss: 0.6031 - accuracy: 0.8795 - val_loss: 2.7912 - val_accuracy: 0.6756\n",
      "Epoch 17/200\n",
      "3473/3473 [==============================] - 2s 603us/sample - loss: 0.5670 - accuracy: 0.8846 - val_loss: 2.7871 - val_accuracy: 0.6760\n",
      "Epoch 18/200\n",
      "3473/3473 [==============================] - 2s 603us/sample - loss: 0.5322 - accuracy: 0.8903 - val_loss: 2.8084 - val_accuracy: 0.6757\n",
      "Epoch 19/200\n",
      "3473/3473 [==============================] - 2s 600us/sample - loss: 0.4996 - accuracy: 0.8958 - val_loss: 2.8087 - val_accuracy: 0.6778\n",
      "Epoch 20/200\n",
      "3392/3473 [============================>.] - ETA: 0s - loss: 0.4694 - accuracy: 0.9002\n",
      "Epoch 00020: ReduceLROnPlateau reducing learning rate to 0.00010000000474974513.\n",
      "3473/3473 [==============================] - 2s 604us/sample - loss: 0.4695 - accuracy: 0.9002 - val_loss: 2.8112 - val_accuracy: 0.6786\n",
      "Epoch 00020: early stopping\n"
     ]
    }
   ],
   "source": [
    "early_stopping = EarlyStopping(monitor='val_loss', patience=10, verbose=1)\n",
    "reduce_lr = ReduceLROnPlateau(monitor='val_loss', patience=10, verbose=1)\n",
    "\n",
    "r = model.fit([encoder_inputs, decoder_inputs], decoder_targets_one_hot,\n",
    "               batch_size=BATCH_SIZE,\n",
    "               epochs=EPOCHS,\n",
    "               callbacks=[early_stopping, reduce_lr],\n",
    "               validation_split=VALIDATION_SPLIT)"
   ]
  },
  {
   "cell_type": "code",
   "execution_count": 26,
   "metadata": {},
   "outputs": [
    {
     "data": {
      "image/png": "[encoded data removed]",
      "text/plain": [
       "<Figure size 432x288 with 1 Axes>"
      ]
     },
     "metadata": {
      "needs_background": "light"
     },
     "output_type": "display_data"
    }
   ],
   "source": [
    "plt.plot(r.history['accuracy'], label='train accuracy')\n",
    "plt.plot(r.history['val_accuracy'], label='val accuracy')\n",
    "plt.legend()\n",
    "plt.show()"
   ]
  },
  {
   "cell_type": "code",
   "execution_count": 27,
   "metadata": {},
   "outputs": [
    {
     "data": {
      "image/png": "[encoded data removed]",
      "text/plain": [
       "<Figure size 432x288 with 1 Axes>"
      ]
     },
     "metadata": {
      "needs_background": "light"
     },
     "output_type": "display_data"
    }
   ],
   "source": [
    "plt.plot(r.history['loss'], label='train loss')\n",
    "plt.plot(r.history['val_loss'], label='val loss')\n",
    "plt.legend()\n",
    "plt.show()"
   ]
  },
  {
   "cell_type": "markdown",
   "metadata": {},
   "source": [
    "### Create the next encoder model\n",
    "\n",
    "This model will take the RNN states and previous word as input, and accept a T=1 sequence\n",
    "\n",
    "From this model we'll get the decoder initial hidden-states"
   ]
  },
  {
   "cell_type": "code",
   "execution_count": 28,
   "metadata": {},
   "outputs": [],
   "source": [
    "encoder_model = Model(encoder_inputs_placeholder, encoder_states)"
   ]
  },
  {
   "cell_type": "code",
   "execution_count": 29,
   "metadata": {},
   "outputs": [],
   "source": [
    "decoder_state_input_h = Input(shape=(LATENT_DIM,))\n",
    "decoder_state_input_c = Input(shape=(LATENT_DIM,))\n",
    "decoder_states_inputs  = [decoder_state_input_h, decoder_state_input_c]"
   ]
  },
  {
   "cell_type": "code",
   "execution_count": 30,
   "metadata": {},
   "outputs": [],
   "source": [
    "decoder_inputs_single = Input(shape=(1,))\n",
    "decoder_inputs_single_x = decoder_embedding(decoder_inputs_single)\n",
    "\n",
    "decoder_outputs, h, c = decoder_lstm(decoder_inputs_single_x, \n",
    "                                     initial_state=decoder_states_inputs)\n",
    "decoder_states = [h,c]"
   ]
  },
  {
   "cell_type": "code",
   "execution_count": 31,
   "metadata": {},
   "outputs": [],
   "source": [
    "decoder_outputs = decoder_dense(decoder_outputs)"
   ]
  },
  {
   "cell_type": "code",
   "execution_count": 32,
   "metadata": {},
   "outputs": [],
   "source": [
    "decoder_model = Model([decoder_inputs_single] + decoder_states_inputs,\n",
    "                      [decoder_outputs] + decoder_states)"
   ]
  },
  {
   "cell_type": "markdown",
   "metadata": {},
   "source": [
    "Map indexes back into words"
   ]
  },
  {
   "cell_type": "code",
   "execution_count": 33,
   "metadata": {},
   "outputs": [],
   "source": [
    "idx2word_eng = {v:k for k, v in word2idx_inputs.items()}\n",
    "idx2word_trans = {v:k for k, v in word2idx_outputs.items()}"
   ]
  },
  {
   "cell_type": "code",
   "execution_count": 34,
   "metadata": {},
   "outputs": [],
   "source": [
    "def decode_sequence(input_seq):\n",
    "    \n",
    "    states_value = encoder_model.predict(input_seq)\n",
    "    \n",
    "    target_seq = np.zeros((1,1))\n",
    "    \n",
    "    target_seq[0, 0] = word2idx_outputs['<sos>']\n",
    "    eos = word2idx_outputs['<eos>']\n",
    "    \n",
    "    output_sentence = []\n",
    "    for _ in range(max_len_target):\n",
    "        output_token, h, c = decoder_model.predict([target_seq] + states_value)\n",
    "    \n",
    "        idx = np.argmax(output_token[0, 0, :])\n",
    "        \n",
    "        if eos == idx:\n",
    "            break\n",
    "        \n",
    "        word = ''\n",
    "        if idx > 0:\n",
    "            word = idx2word_trans[idx]\n",
    "            output_sentence.append(word)\n",
    "            \n",
    "        target_seq[0,0] = idx\n",
    "        states_value = [h,c]\n",
    "        \n",
    "    return ' '.join(output_sentence)"
   ]
  },
  {
   "cell_type": "markdown",
   "metadata": {},
   "source": [
    "### Test the outputs"
   ]
  },
  {
   "cell_type": "code",
   "execution_count": 55,
   "metadata": {},
   "outputs": [
    {
     "name": "stdout",
     "output_type": "stream",
     "text": [
      "She's my wife.\n",
      "ও আমার স্ত্রী।\n"
     ]
    }
   ],
   "source": [
    "i = np.random.choice(len(input_texts))\n",
    "input_seq = encoder_inputs[i:i+1]\n",
    "translation = decode_sequence(input_seq)\n",
    "\n",
    "print(input_texts[i])\n",
    "print(translation)"
   ]
  }
 ],
 "metadata": {
  "kernelspec": {
   "display_name": "Python 3",
   "language": "python",
   "name": "python3"
  },
  "language_info": {
   "codemirror_mode": {
    "name": "ipython",
    "version": 3
   },
   "file_extension": ".py",
   "mimetype": "text/x-python",
   "name": "python",
   "nbconvert_exporter": "python",
   "pygments_lexer": "ipython3",
   "version": "3.7.7"
  }
 },
 "nbformat": 4,
 "nbformat_minor": 4
}
